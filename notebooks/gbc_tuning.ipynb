{
 "cells": [
  {
   "cell_type": "code",
   "execution_count": 1,
   "id": "33d194bc-e6d0-4a60-97c3-9268a1194576",
   "metadata": {},
   "outputs": [],
   "source": [
    "import sys\n",
    "import os\n",
    "import pandas as pd\n",
    "import numpy as np\n",
    "import matplotlib.pyplot as plt\n",
    "import seaborn as sns\n",
    "\n",
    "# Cross support for windows and linux\n",
    "project_root = os.path.abspath(os.path.join(os.getcwd(), '..'))\n",
    "if project_root not in sys.path:\n",
    "    sys.path.append(project_root)\n",
    "\n",
    "data_path = os.path.join(project_root, 'data', 'raw', 'fake_and_real_news.csv')\n",
    "# data_path = os.path.join(project_root, 'data', 'processed', 'processed_data.csv')\n",
    "\n",
    "model_destination = os.path.join(project_root, 'models', 'gbc_tuned.pk1')"
   ]
  },
  {
   "cell_type": "code",
   "execution_count": 2,
   "id": "3b130546-3d82-4235-bc56-1f5e8a827f7d",
   "metadata": {},
   "outputs": [],
   "source": [
    "data = pd.read_csv(data_path)"
   ]
  },
  {
   "cell_type": "code",
   "execution_count": 3,
   "id": "b40bd43d-a6e4-4d0e-925c-f0c3abde3384",
   "metadata": {},
   "outputs": [],
   "source": [
    "# Convert to binary labels\n",
    "mapping = {'Fake': 1, 'Real': 0}\n",
    "data['label_binary'] = data['label'].map(mapping)\n",
    "\n",
    "# Remove Duplicate values\n",
    "data.drop_duplicates(subset=\"Text\", inplace=True)"
   ]
  },
  {
   "cell_type": "code",
   "execution_count": 4,
   "id": "22880d73-95ba-4ee3-b397-35f58d459d7b",
   "metadata": {},
   "outputs": [],
   "source": [
    "# Split dataset into training and testing set\n",
    "from sklearn.model_selection import train_test_split\n",
    "\n",
    "X = data['Text']\n",
    "y = data['label_binary']\n",
    "\n",
    "X_train, X_test, y_train, y_test = train_test_split(X, y, test_size=.3, random_state=2024)"
   ]
  },
  {
   "cell_type": "code",
   "execution_count": 5,
   "id": "835b463a-4663-416a-a710-3fb2a4d07350",
   "metadata": {},
   "outputs": [],
   "source": [
    "from src.pipelines import create_gbc_pipe\n",
    "\n",
    "gbc_pipe = create_gbc_pipe()"
   ]
  },
  {
   "cell_type": "code",
   "execution_count": 7,
   "id": "64b4b2c9-e69b-41e8-9bba-51d0bdf8212b",
   "metadata": {},
   "outputs": [
    {
     "name": "stdout",
     "output_type": "stream",
     "text": [
      "Best Parameters: {'classifier__learning_rate': 0.1, 'classifier__max_depth': 4, 'classifier__n_estimators': 200}\n",
      "Best Cross-Validation Accuracy: 0.9850832729905864\n"
     ]
    }
   ],
   "source": [
    "from sklearn.model_selection import GridSearchCV\n",
    "\n",
    "param_grid = {\n",
    "    'classifier__n_estimators': [50, 100, 200],\n",
    "    'classifier__learning_rate': [.01, .05, .1],\n",
    "    'classifier__max_depth': [3, 4, 5]\n",
    "}\n",
    "\n",
    "grid_search = GridSearchCV(gbc_pipe, param_grid, cv=5, scoring='accuracy')\n",
    "grid_search.fit(X_train, y_train)\n",
    "\n",
    "print(\"Best Parameters:\", grid_search.best_params_)\n",
    "print(\"Best Cross-Validation Accuracy:\", grid_search.best_score_)"
   ]
  },
  {
   "cell_type": "code",
   "execution_count": null,
   "id": "8df9d951-de4d-43d9-8774-4d90c002f300",
   "metadata": {},
   "outputs": [],
   "source": []
  },
  {
   "cell_type": "code",
   "execution_count": null,
   "id": "89f81167-b7c5-43de-9e3a-5f6d04233712",
   "metadata": {},
   "outputs": [],
   "source": []
  }
 ],
 "metadata": {
  "kernelspec": {
   "display_name": "Python 3 (ipykernel)",
   "language": "python",
   "name": "python3"
  },
  "language_info": {
   "codemirror_mode": {
    "name": "ipython",
    "version": 3
   },
   "file_extension": ".py",
   "mimetype": "text/x-python",
   "name": "python",
   "nbconvert_exporter": "python",
   "pygments_lexer": "ipython3",
   "version": "3.10.5"
  }
 },
 "nbformat": 4,
 "nbformat_minor": 5
}
